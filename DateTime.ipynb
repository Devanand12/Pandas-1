{
 "cells": [
  {
   "cell_type": "code",
   "execution_count": 29,
   "metadata": {},
   "outputs": [],
   "source": [
    "import pandas as pd\n",
    "df_matches = pd.read_csv('data/matches.csv',parse_dates=['date'])"
   ]
  },
  {
   "cell_type": "markdown",
   "metadata": {},
   "source": [
    "Print the column -> Date"
   ]
  },
  {
   "cell_type": "code",
   "execution_count": 34,
   "metadata": {},
   "outputs": [
    {
     "data": {
      "text/html": [
       "<div>\n",
       "<style scoped>\n",
       "    .dataframe tbody tr th:only-of-type {\n",
       "        vertical-align: middle;\n",
       "    }\n",
       "\n",
       "    .dataframe tbody tr th {\n",
       "        vertical-align: top;\n",
       "    }\n",
       "\n",
       "    .dataframe thead th {\n",
       "        text-align: right;\n",
       "    }\n",
       "</style>\n",
       "<table border=\"1\" class=\"dataframe\">\n",
       "  <thead>\n",
       "    <tr style=\"text-align: right;\">\n",
       "      <th></th>\n",
       "      <th>id</th>\n",
       "      <th>season</th>\n",
       "      <th>dl_applied</th>\n",
       "      <th>win_by_runs</th>\n",
       "      <th>win_by_wickets</th>\n",
       "    </tr>\n",
       "  </thead>\n",
       "  <tbody>\n",
       "    <tr>\n",
       "      <th>id</th>\n",
       "      <td>1.000000</td>\n",
       "      <td>0.668304</td>\n",
       "      <td>-0.011658</td>\n",
       "      <td>-0.039403</td>\n",
       "      <td>-0.012239</td>\n",
       "    </tr>\n",
       "    <tr>\n",
       "      <th>season</th>\n",
       "      <td>0.668304</td>\n",
       "      <td>1.000000</td>\n",
       "      <td>-0.001116</td>\n",
       "      <td>-0.037529</td>\n",
       "      <td>-0.009379</td>\n",
       "    </tr>\n",
       "    <tr>\n",
       "      <th>dl_applied</th>\n",
       "      <td>-0.011658</td>\n",
       "      <td>-0.001116</td>\n",
       "      <td>1.000000</td>\n",
       "      <td>-0.016349</td>\n",
       "      <td>-0.011631</td>\n",
       "    </tr>\n",
       "    <tr>\n",
       "      <th>win_by_runs</th>\n",
       "      <td>-0.039403</td>\n",
       "      <td>-0.037529</td>\n",
       "      <td>-0.016349</td>\n",
       "      <td>1.000000</td>\n",
       "      <td>-0.560420</td>\n",
       "    </tr>\n",
       "    <tr>\n",
       "      <th>win_by_wickets</th>\n",
       "      <td>-0.012239</td>\n",
       "      <td>-0.009379</td>\n",
       "      <td>-0.011631</td>\n",
       "      <td>-0.560420</td>\n",
       "      <td>1.000000</td>\n",
       "    </tr>\n",
       "  </tbody>\n",
       "</table>\n",
       "</div>"
      ],
      "text/plain": [
       "                      id    season  dl_applied  win_by_runs  win_by_wickets\n",
       "id              1.000000  0.668304   -0.011658    -0.039403       -0.012239\n",
       "season          0.668304  1.000000   -0.001116    -0.037529       -0.009379\n",
       "dl_applied     -0.011658 -0.001116    1.000000    -0.016349       -0.011631\n",
       "win_by_runs    -0.039403 -0.037529   -0.016349     1.000000       -0.560420\n",
       "win_by_wickets -0.012239 -0.009379   -0.011631    -0.560420        1.000000"
      ]
     },
     "execution_count": 34,
     "metadata": {},
     "output_type": "execute_result"
    }
   ],
   "source": [
    "df_matches.columns\n",
    "df_matches.corr()"
   ]
  },
  {
   "cell_type": "markdown",
   "metadata": {},
   "source": [
    "Confirm the data type of the column Date"
   ]
  },
  {
   "cell_type": "code",
   "execution_count": 31,
   "metadata": {},
   "outputs": [
    {
     "data": {
      "text/plain": [
       "dtype('<M8[ns]')"
      ]
     },
     "execution_count": 31,
     "metadata": {},
     "output_type": "execute_result"
    }
   ],
   "source": [
    "df_matches.date.dtype"
   ]
  },
  {
   "cell_type": "markdown",
   "metadata": {},
   "source": [
    "Change the date type to datetime using to_datetime"
   ]
  },
  {
   "cell_type": "code",
   "execution_count": 10,
   "metadata": {},
   "outputs": [],
   "source": [
    "date_new = pd.to_datetime(df_matches.date)"
   ]
  },
  {
   "cell_type": "code",
   "execution_count": 20,
   "metadata": {},
   "outputs": [
    {
     "data": {
      "text/plain": [
       "0      2\n",
       "1      2\n",
       "2      2\n",
       "3      2\n",
       "4      2\n",
       "5      2\n",
       "6      2\n",
       "7      2\n",
       "8      2\n",
       "9      2\n",
       "10     2\n",
       "11     2\n",
       "12     2\n",
       "13     2\n",
       "14     2\n",
       "15     2\n",
       "16     2\n",
       "17     2\n",
       "18     2\n",
       "19     2\n",
       "20     2\n",
       "21     2\n",
       "22     2\n",
       "23     2\n",
       "24     2\n",
       "25     2\n",
       "26     2\n",
       "27     2\n",
       "28     2\n",
       "29     2\n",
       "      ..\n",
       "726    2\n",
       "727    2\n",
       "728    2\n",
       "729    2\n",
       "730    2\n",
       "731    2\n",
       "732    2\n",
       "733    2\n",
       "734    2\n",
       "735    2\n",
       "736    2\n",
       "737    2\n",
       "738    2\n",
       "739    2\n",
       "740    2\n",
       "741    2\n",
       "742    2\n",
       "743    2\n",
       "744    2\n",
       "745    1\n",
       "746    1\n",
       "747    1\n",
       "748    2\n",
       "749    2\n",
       "750    2\n",
       "751    2\n",
       "752    3\n",
       "753    3\n",
       "754    4\n",
       "755    4\n",
       "Name: date, Length: 756, dtype: int64"
      ]
     },
     "execution_count": 20,
     "metadata": {},
     "output_type": "execute_result"
    }
   ],
   "source": [
    "date_new.dt.quarter"
   ]
  },
  {
   "cell_type": "markdown",
   "metadata": {},
   "source": [
    "Now, Get the day, month,  year of the match date"
   ]
  },
  {
   "cell_type": "code",
   "execution_count": 21,
   "metadata": {},
   "outputs": [
    {
     "data": {
      "text/plain": [
       "0      2017\n",
       "1      2017\n",
       "2      2017\n",
       "3      2017\n",
       "4      2017\n",
       "5      2017\n",
       "6      2017\n",
       "7      2017\n",
       "8      2017\n",
       "9      2017\n",
       "10     2017\n",
       "11     2017\n",
       "12     2017\n",
       "13     2017\n",
       "14     2017\n",
       "15     2017\n",
       "16     2017\n",
       "17     2017\n",
       "18     2017\n",
       "19     2017\n",
       "20     2017\n",
       "21     2017\n",
       "22     2017\n",
       "23     2017\n",
       "24     2017\n",
       "25     2017\n",
       "26     2017\n",
       "27     2017\n",
       "28     2017\n",
       "29     2017\n",
       "       ... \n",
       "726    2019\n",
       "727    2019\n",
       "728    2019\n",
       "729    2019\n",
       "730    2019\n",
       "731    2019\n",
       "732    2019\n",
       "733    2019\n",
       "734    2019\n",
       "735    2019\n",
       "736    2019\n",
       "737    2019\n",
       "738    2019\n",
       "739    2019\n",
       "740    2019\n",
       "741    2019\n",
       "742    2019\n",
       "743    2019\n",
       "744    2019\n",
       "745    2019\n",
       "746    2019\n",
       "747    2019\n",
       "748    2019\n",
       "749    2019\n",
       "750    2019\n",
       "751    2019\n",
       "752    2019\n",
       "753    2019\n",
       "754    2019\n",
       "755    2019\n",
       "Name: date, Length: 756, dtype: int64"
      ]
     },
     "execution_count": 21,
     "metadata": {},
     "output_type": "execute_result"
    }
   ],
   "source": [
    "date_new.dt.year"
   ]
  },
  {
   "cell_type": "code",
   "execution_count": 27,
   "metadata": {},
   "outputs": [
    {
     "data": {
      "text/plain": [
       "<matplotlib.axes._subplots.AxesSubplot at 0x1a2d8ed8630>"
      ]
     },
     "execution_count": 27,
     "metadata": {},
     "output_type": "execute_result"
    },
    {
     "data": {
      "image/png": "[encoded data removed]",
      "text/plain": [
       "<Figure size 432x288 with 1 Axes>"
      ]
     },
     "metadata": {
      "needs_background": "light"
     },
     "output_type": "display_data"
    }
   ],
   "source": [
    "date_new.dt.year.value_counts().sort_values().plot(kind='bar')"
   ]
  },
  {
   "cell_type": "markdown",
   "metadata": {},
   "source": [
    "Plot the matches by year"
   ]
  },
  {
   "cell_type": "code",
   "execution_count": 53,
   "metadata": {},
   "outputs": [
    {
     "data": {
      "text/plain": [
       "<matplotlib.axes._subplots.AxesSubplot at 0x1da5155bcc0>"
      ]
     },
     "execution_count": 53,
     "metadata": {},
     "output_type": "execute_result"
    },
    {
     "data": {
      "image/png": "[encoded data removed]",
      "text/plain": [
       "<Figure size 432x288 with 1 Axes>"
      ]
     },
     "metadata": {
      "needs_background": "light"
     },
     "output_type": "display_data"
    }
   ],
   "source": []
  },
  {
   "cell_type": "code",
   "execution_count": null,
   "metadata": {},
   "outputs": [],
   "source": []
  }
 ],
 "metadata": {
  "kernelspec": {
   "display_name": "Python 3",
   "language": "python",
   "name": "python3"
  },
  "language_info": {
   "codemirror_mode": {
    "name": "ipython",
    "version": 3
   },
   "file_extension": ".py",
   "mimetype": "text/x-python",
   "name": "python",
   "nbconvert_exporter": "python",
   "pygments_lexer": "ipython3",
   "version": "3.7.3"
  }
 },
 "nbformat": 4,
 "nbformat_minor": 2
}
